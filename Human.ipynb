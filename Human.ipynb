{
 "cells": [
  {
   "cell_type": "markdown",
   "metadata": {},
   "source": [
    "# Human DNA"
   ]
  },
  {
   "cell_type": "markdown",
   "metadata": {},
   "source": [
    "import libraries for later use"
   ]
  },
  {
   "cell_type": "code",
   "execution_count": 2,
   "metadata": {},
   "outputs": [],
   "source": [
    "import numpy as np\n",
    "import pandas as pd\n",
    "import sklearn"
   ]
  },
  {
   "cell_type": "code",
   "execution_count": null,
   "metadata": {},
   "outputs": [],
   "source": [
    "df_train = pd.read_csv('exercise_data/human_dna_train_split.csv')\n",
    "df_valid = pd.read_csv('exercise_data/human_dna_validation_split.csv')\n",
    "df_test  = pd.read_csv('exercise_data/human_dna_test_split.csv')"
   ]
  },
  {
   "cell_type": "markdown",
   "metadata": {},
   "source": [
    "### Mapping DNA to a vector\n",
    "\n",
    "We will map the DNA into a vector, by mapping each Character (A,T,C,G) into a one-hot vector and then concatonating all these vectors together. As we have a string of 398 Characters this gives us a final vector of length 1592. \n",
    "\n",
    "*This operation takes some time, please be patient*"
   ]
  },
  {
   "cell_type": "code",
   "execution_count": null,
   "metadata": {},
   "outputs": [],
   "source": [
    "import utility\n",
    "df_train['sequences'] = df_train['sequences'].map(utility.map_dna_into_vector)\n",
    "df_valid['sequences'] = df_valid['sequences'].map(utility.map_dna_into_vector)\n",
    "df_test['sequences']  = df_test['sequences'].map(utility.map_dna_into_vector)"
   ]
  },
  {
   "cell_type": "markdown",
   "metadata": {},
   "source": [
    "### Creating a DataFrame for later Evalution"
   ]
  },
  {
   "cell_type": "code",
   "execution_count": null,
   "metadata": {},
   "outputs": [],
   "source": [
    "eval_df = pd.DataFrame(data=[], columns=[\"Name\", \"AUROC\", \"AUPRC\", \"f1_score\"])"
   ]
  },
  {
   "cell_type": "markdown",
   "metadata": {},
   "source": [
    "## Models"
   ]
  },
  {
   "cell_type": "code",
   "execution_count": null,
   "metadata": {},
   "outputs": [],
   "source": [
    "from sklearn.model_selection import GridSearchCV, ParameterGrid\n",
    "from sklearn.metrics import f1_score"
   ]
  },
  {
   "cell_type": "code",
   "execution_count": null,
   "metadata": {},
   "outputs": [],
   "source": [
    "def evaluate_model(model, params, train, valid, test, eval_df):\n",
    "    # Put Data into a usable Matrix Format\n",
    "    train_data = np.vstack(train['sequences'].values)\n",
    "    valid_data = np.vstack(valid['sequences'].values)\n",
    "    test_data = np.vstack(valid['sequences'].values)\n",
    "    \n",
    "    combined_data = np.vstack([train_data, valid_data])\n",
    "    combind_labels = np.hstack([train['labels'].values, valid['labels'].values])\n",
    "    \n",
    "    # Create Instance of the Model\n",
    "    m = model()\n",
    "    \n",
    "    # Search for the best params in our model and print the best score\n",
    "    grid = ParameterGrid(params)\n",
    "    scores = []\n",
    "    for grid_point in grid:\n",
    "        m = model(**grid_point)\n",
    "        m = m.fit(train_data, train['labels'].values)\n",
    "        pred_val = m.predict(valid_data)\n",
    "        score = f1_score(valid['labels'].values, pred_val)\n",
    "        scores.append(score)\n",
    "        \n",
    "    best_score = np.max(scores)\n",
    "    best_idx = np.argmax(scores)\n",
    "    best_params = grid[best_idx]\n",
    "    print(f\"The best score was: {best_scores}\")\n",
    "    \n",
    "    \n",
    "    # Train our best model on the whole train-dataset\n",
    "    best_estimator = model(**best_params)\n",
    "    best_estimotor = best_estimator.fit(combined_data, combined_labels)\n",
    "    \n",
    "    # Evaluate on the Test set\n",
    "    pred_val = best_estimator.predict(test_data)\n",
    "    true_val = test['labels'].values\n",
    "    auroc, auprc = utility.get_scores(true_val, pred_val)\n",
    "    \n",
    "    # Append to our Dataframe\n",
    "    df = df.append({'Name': model.__name__, 'AUROC':auroc , 'AUPRC': auprc, 'f1_cv':best_scores}, ignore_index=True)\n",
    "    return (best_estimator, df)\n",
    "    \n",
    "    \n",
    "    \n",
    "    "
   ]
  },
  {
   "cell_type": "markdown",
   "metadata": {},
   "source": [
    "### Logistic Regression"
   ]
  },
  {
   "cell_type": "code",
   "execution_count": null,
   "metadata": {},
   "outputs": [],
   "source": [
    "from sklearn.linear_model import LogisticRegression"
   ]
  },
  {
   "cell_type": "code",
   "execution_count": null,
   "metadata": {},
   "outputs": [],
   "source": [
    "params = {\n",
    "    'penalty': ['l1', 'l2'],\n",
    "    'C': [1, 10, 100],\n",
    "    'class_weight': ['balanced'],\n",
    "    'solver': ['sag']\n",
    "    'n_jobs': [-1]\n",
    "}"
   ]
  },
  {
   "cell_type": "code",
   "execution_count": null,
   "metadata": {},
   "outputs": [],
   "source": [
    "lg_best_estimator, eval_df = evaluate_model(LogisticRegression, params, df_train, df_valid, df_test, eval_df)"
   ]
  },
  {
   "cell_type": "code",
   "execution_count": null,
   "metadata": {},
   "outputs": [],
   "source": []
  }
 ],
 "metadata": {
  "kernelspec": {
   "display_name": "Python 3",
   "language": "python",
   "name": "python3"
  },
  "language_info": {
   "codemirror_mode": {
    "name": "ipython",
    "version": 3
   },
   "file_extension": ".py",
   "mimetype": "text/x-python",
   "name": "python",
   "nbconvert_exporter": "python",
   "pygments_lexer": "ipython3",
   "version": "3.6.7"
  }
 },
 "nbformat": 4,
 "nbformat_minor": 2
}
