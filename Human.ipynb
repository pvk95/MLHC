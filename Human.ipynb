{
 "cells": [
  {
   "cell_type": "markdown",
   "metadata": {},
   "source": [
    "# Human DNA"
   ]
  },
  {
   "cell_type": "markdown",
   "metadata": {},
   "source": [
    "import libraries for later use"
   ]
  },
  {
   "cell_type": "code",
   "execution_count": 1,
   "metadata": {},
   "outputs": [],
   "source": [
    "import numpy as np\n",
    "import pandas as pd\n",
    "import sklearn"
   ]
  },
  {
   "cell_type": "code",
   "execution_count": 2,
   "metadata": {},
   "outputs": [],
   "source": [
    "df_train = pd.read_csv('exercise_data/human_dna_train_split.csv')\n",
    "df_valid = pd.read_csv('exercise_data/human_dna_validation_split.csv')\n",
    "df_test  = pd.read_csv('exercise_data/human_dna_test_split.csv')"
   ]
  },
  {
   "cell_type": "code",
   "execution_count": 3,
   "metadata": {},
   "outputs": [
    {
     "name": "stdout",
     "output_type": "stream",
     "text": [
      "Size of training_set: (500000, 2)\n",
      "Shape of test set: (33333, 2)\n",
      "Shape of validation set: (33333, 2)\n"
     ]
    }
   ],
   "source": [
    "print(f\"Size of training_set: {df_train.shape}\")\n",
    "print(f\"Shape of test set: {df_test.shape}\")\n",
    "print(f\"Shape of validation set: {df_valid.shape}\")"
   ]
  },
  {
   "cell_type": "markdown",
   "metadata": {},
   "source": [
    "### UnderSampling"
   ]
  },
  {
   "cell_type": "code",
   "execution_count": 4,
   "metadata": {},
   "outputs": [],
   "source": [
    "from imblearn.under_sampling import RandomUnderSampler, CondensedNearestNeighbour"
   ]
  },
  {
   "cell_type": "code",
   "execution_count": 5,
   "metadata": {},
   "outputs": [],
   "source": [
    "def undersample_dataframe(df):\n",
    "    X = np.vstack(df['sequences'].values)\n",
    "    y = df['labels'].values\n",
    "    undersampler = RandomUnderSampler()\n",
    "    X_undersampled, y_undersampled = undersampler.fit_resample(X, y)\n",
    "    undersampled_df = pd.DataFrame({'labels':y_undersampled, 'sequences': X_undersampled[:,0]})\n",
    "    return undersampled_df"
   ]
  },
  {
   "cell_type": "code",
   "execution_count": 6,
   "metadata": {},
   "outputs": [
    {
     "name": "stdout",
     "output_type": "stream",
     "text": [
      "Size before undersampling 500000\n",
      "Size after undersampling 2942\n"
     ]
    }
   ],
   "source": [
    "print(f\"Size before undersampling {df_train.shape[0]}\")\n",
    "df_train = undersample_dataframe(df_train)\n",
    "print(f\"Size after undersampling {df_train.shape[0]}\")"
   ]
  },
  {
   "cell_type": "markdown",
   "metadata": {},
   "source": [
    "### Mapping DNA to a vector\n",
    "\n",
    "We will map the DNA into a vector, by mapping each Character (A,T,C,G) into a one-hot vector and then concatonating all these vectors together. As we have a string of 398 Characters this gives us a final vector of length 1592. \n",
    "\n",
    "*This operation takes some time, please be patient*"
   ]
  },
  {
   "cell_type": "code",
   "execution_count": 7,
   "metadata": {},
   "outputs": [],
   "source": [
    "import utility\n",
    "df_train['sequences'] = df_train['sequences'].map(utility.map_dna_into_vector)\n",
    "df_valid['sequences'] = df_valid['sequences'].map(utility.map_dna_into_vector)\n",
    "df_test['sequences']  = df_test['sequences'].map(utility.map_dna_into_vector)"
   ]
  },
  {
   "cell_type": "markdown",
   "metadata": {},
   "source": [
    "### Creating a DataFrame for later Evalution"
   ]
  },
  {
   "cell_type": "code",
   "execution_count": 8,
   "metadata": {},
   "outputs": [],
   "source": [
    "eval_df = pd.DataFrame(data=[], columns=[\"Name\", \"AUROC\", \"AUPRC\", \"f1_score\"])"
   ]
  },
  {
   "cell_type": "markdown",
   "metadata": {},
   "source": [
    "## Models"
   ]
  },
  {
   "cell_type": "code",
   "execution_count": 9,
   "metadata": {},
   "outputs": [],
   "source": [
    "from sklearn.model_selection import GridSearchCV, ParameterGrid\n",
    "from sklearn.metrics import f1_score"
   ]
  },
  {
   "cell_type": "code",
   "execution_count": 10,
   "metadata": {},
   "outputs": [],
   "source": [
    "def evaluate_model(model, params, train, valid, test, eval_df):\n",
    "    # Put Data into a usable Matrix Format\n",
    "    train_data = np.vstack(train['sequences'].values)\n",
    "    valid_data = np.vstack(valid['sequences'].values)\n",
    "    test_data = np.vstack(valid['sequences'].values)\n",
    "    \n",
    "    combined_data = np.vstack([train_data, valid_data])\n",
    "    combined_labels = np.hstack([train['labels'].values, valid['labels'].values])\n",
    "    \n",
    "    # Create Instance of the Model\n",
    "    m = model()\n",
    "    \n",
    "    # Search for the best params in our model and print the best score\n",
    "    grid = ParameterGrid(params)\n",
    "    scores = []\n",
    "    for grid_point in grid:\n",
    "        m = model(**grid_point)\n",
    "        m = m.fit(train_data, train['labels'].values)\n",
    "        pred_val = m.predict(valid_data)\n",
    "        score = f1_score(valid['labels'].values, pred_val)\n",
    "        scores.append(score)\n",
    "        \n",
    "    best_score = np.max(scores)\n",
    "    best_idx = np.argmax(scores)\n",
    "    best_params = grid[best_idx]\n",
    "    print(f\"The best score was: {best_score}\")\n",
    "    \n",
    "    \n",
    "    # Train our best model on the whole train-dataset\n",
    "    best_estimator = model(**best_params)\n",
    "    best_estimotor = best_estimator.fit(combined_data, combined_labels)\n",
    "    \n",
    "    # Evaluate on the Test set\n",
    "    pred_val = best_estimator.predict(test_data)\n",
    "    true_val = test['labels'].values\n",
    "    auroc, auprc = utility.get_scores(true_val, pred_val)\n",
    "    \n",
    "    # Append to our Dataframe\n",
    "    eval_df = eval_df.append({'Name': model.__name__, 'AUROC':auroc , 'AUPRC': auprc, 'f1_cv':best_score}, ignore_index=True)\n",
    "    return (best_estimator, eval_df)\n",
    "    \n",
    "    \n",
    "    \n",
    "    "
   ]
  },
  {
   "cell_type": "markdown",
   "metadata": {},
   "source": [
    "### Logistic Regression"
   ]
  },
  {
   "cell_type": "code",
   "execution_count": 11,
   "metadata": {},
   "outputs": [],
   "source": [
    "from sklearn.linear_model import LogisticRegression"
   ]
  },
  {
   "cell_type": "code",
   "execution_count": 12,
   "metadata": {},
   "outputs": [],
   "source": [
    "params = {\n",
    "    'penalty': ['l1', 'l2'],\n",
    "    'C': [1, 10, 100],\n",
    "    'class_weight': ['balanced'],\n",
    "}"
   ]
  },
  {
   "cell_type": "code",
   "execution_count": 30,
   "metadata": {},
   "outputs": [
    {
     "name": "stderr",
     "output_type": "stream",
     "text": [
      "/home/martin/.local/lib/python3.6/site-packages/sklearn/linear_model/logistic.py:433: FutureWarning: Default solver will be changed to 'lbfgs' in 0.22. Specify a solver to silence this warning.\n",
      "  FutureWarning)\n",
      "/home/martin/.local/lib/python3.6/site-packages/sklearn/linear_model/logistic.py:433: FutureWarning: Default solver will be changed to 'lbfgs' in 0.22. Specify a solver to silence this warning.\n",
      "  FutureWarning)\n",
      "/home/martin/.local/lib/python3.6/site-packages/sklearn/linear_model/logistic.py:433: FutureWarning: Default solver will be changed to 'lbfgs' in 0.22. Specify a solver to silence this warning.\n",
      "  FutureWarning)\n",
      "/home/martin/.local/lib/python3.6/site-packages/sklearn/linear_model/logistic.py:433: FutureWarning: Default solver will be changed to 'lbfgs' in 0.22. Specify a solver to silence this warning.\n",
      "  FutureWarning)\n",
      "/home/martin/.local/lib/python3.6/site-packages/sklearn/linear_model/logistic.py:433: FutureWarning: Default solver will be changed to 'lbfgs' in 0.22. Specify a solver to silence this warning.\n",
      "  FutureWarning)\n",
      "/home/martin/.local/lib/python3.6/site-packages/sklearn/linear_model/logistic.py:433: FutureWarning: Default solver will be changed to 'lbfgs' in 0.22. Specify a solver to silence this warning.\n",
      "  FutureWarning)\n"
     ]
    },
    {
     "name": "stdout",
     "output_type": "stream",
     "text": [
      "The best score was: 0.023895253682487724\n"
     ]
    },
    {
     "name": "stderr",
     "output_type": "stream",
     "text": [
      "/home/martin/.local/lib/python3.6/site-packages/sklearn/linear_model/logistic.py:433: FutureWarning: Default solver will be changed to 'lbfgs' in 0.22. Specify a solver to silence this warning.\n",
      "  FutureWarning)\n"
     ]
    }
   ],
   "source": [
    "lg_best_estimator, eval_df = evaluate_model(LogisticRegression, params, df_train, df_valid, df_test, eval_df)"
   ]
  },
  {
   "cell_type": "markdown",
   "metadata": {},
   "source": [
    "### SVC"
   ]
  },
  {
   "cell_type": "code",
   "execution_count": 31,
   "metadata": {},
   "outputs": [],
   "source": [
    "from sklearn.svm import SVC"
   ]
  },
  {
   "cell_type": "code",
   "execution_count": 39,
   "metadata": {},
   "outputs": [],
   "source": [
    "params = {'kernel': ['linear', 'rbf', 'poly'],\n",
    "          'C': [1, 10],\n",
    "          'class_weight': ['balanced'],\n",
    "          'gamma': ['auto', 'scale'],\n",
    "         }"
   ]
  },
  {
   "cell_type": "code",
   "execution_count": 40,
   "metadata": {},
   "outputs": [
    {
     "name": "stdout",
     "output_type": "stream",
     "text": [
      "The best score was: 0.032343909928352094\n"
     ]
    }
   ],
   "source": [
    "lg_best_estimator, eval_df = evaluate_model(SVC, params, df_train, df_valid, df_test, eval_df)"
   ]
  },
  {
   "cell_type": "markdown",
   "metadata": {},
   "source": [
    "### Random Forest"
   ]
  },
  {
   "cell_type": "code",
   "execution_count": 41,
   "metadata": {},
   "outputs": [],
   "source": [
    "from sklearn.ensemble import RandomForestClassifier"
   ]
  },
  {
   "cell_type": "code",
   "execution_count": 43,
   "metadata": {},
   "outputs": [],
   "source": [
    "params = {\n",
    "    'n_estimators':[10, 100, 300],    \n",
    "    'class_weight': ['balanced', 'balanced_subsample']\n",
    "}"
   ]
  },
  {
   "cell_type": "code",
   "execution_count": 44,
   "metadata": {},
   "outputs": [
    {
     "name": "stdout",
     "output_type": "stream",
     "text": [
      "The best score was: 0.03065752319483663\n"
     ]
    }
   ],
   "source": [
    "lg_best_estimator, eval_df = evaluate_model(RandomForestClassifier, params, df_train, df_valid, df_test, eval_df)"
   ]
  },
  {
   "cell_type": "markdown",
   "metadata": {},
   "source": [
    "###  Gaussian Process Classifer"
   ]
  },
  {
   "cell_type": "code",
   "execution_count": 45,
   "metadata": {},
   "outputs": [],
   "source": [
    "from sklearn.gaussian_process import GaussianProcessClassifier\n",
    "from sklearn.gaussian_process.kernels import RBF, PairwiseKernel"
   ]
  },
  {
   "cell_type": "code",
   "execution_count": 46,
   "metadata": {},
   "outputs": [],
   "source": [
    "params = {\n",
    "    'kernel' : [RBF(), PairwiseKernel()]\n",
    "}"
   ]
  },
  {
   "cell_type": "code",
   "execution_count": null,
   "metadata": {},
   "outputs": [
    {
     "name": "stdout",
     "output_type": "stream",
     "text": [
      "The best score was: 0.020757020757020753\n"
     ]
    }
   ],
   "source": [
    "lg_best_estimator, eval_df = evaluate_model(GaussianProcessClassifier, params, df_train, df_valid, df_test, eval_df)"
   ]
  },
  {
   "cell_type": "markdown",
   "metadata": {},
   "source": [
    "### DL Model"
   ]
  },
  {
   "cell_type": "code",
   "execution_count": 11,
   "metadata": {},
   "outputs": [],
   "source": [
    "import tensorflow as tf\n",
    "from tensorflow.python.keras.layers import BatchNormalization,Conv1D,Input,Add,Dense,Flatten\n",
    "from tensorflow.python.keras.models import Model\n",
    "from tensorflow.python.keras.optimizers import Adam\n",
    "\n",
    "\n",
    "def f1(y_true, y_pred):\n",
    "    y_true = tf.cast(y_true, \"int32\")\n",
    "    y_pred = tf.cast(tf.round(y_pred), \"int32\") # implicit 0.5 threshold via tf.round\n",
    "    y_correct = tf.cast(tf.equal(y_true,y_pred),\"int32\")\n",
    "    sum_true = tf.reduce_sum(y_true, axis=1)\n",
    "    sum_pred = tf.reduce_sum(y_pred, axis=1)\n",
    "    sum_correct = tf.reduce_sum(y_correct, axis=1)\n",
    "    precision = sum_correct / sum_pred\n",
    "    recall = sum_correct / sum_true\n",
    "    f_score = 2 * precision * recall / (1 * precision + recall)\n",
    "    f_score = tf.where(tf.is_nan(f_score), tf.zeros_like(f_score), f_score)\n",
    "    return tf.reduce_mean(f_score)\n",
    "\n",
    "def add_RB(x):\n",
    "    xout=BatchNormalization()(x)\n",
    "    xout=Conv1D(filters=32,kernel_size=11,dilation_rate=1,padding='same',activation='relu')(x)\n",
    "    xout=BatchNormalization()(xout)\n",
    "    xout=Conv1D(filters=32,kernel_size=11,dilation_rate=1,padding='same',activation='relu')(xout)\n",
    "    return xout\n"
   ]
  },
  {
   "cell_type": "code",
   "execution_count": 12,
   "metadata": {},
   "outputs": [],
   "source": [
    "tf.reset_default_graph()\n",
    "x=Input(shape=[1592,1])\n",
    "\n",
    "x1=Conv1D(filters=32,kernel_size=1,dilation_rate=1,padding='same',activation='relu')(x)\n",
    "\n",
    "xrb=add_RB(x1)\n",
    "#xrb=add_RB(xrb)\n",
    "#xrb=add_RB(xrb)\n",
    "#xrb=add_RB(xrb)\n",
    "\n",
    "x2=Conv1D(filters=32,kernel_size=1,dilation_rate=1,padding='same',activation='relu')(xrb)\n",
    "x3=Conv1D(filters=32,kernel_size=1,dilation_rate=1,padding='same',activation='relu')(x1)\n",
    "\n",
    "xout=Conv1D(filters=1,kernel_size=1,dilation_rate=1,padding='same',activation='relu')(Add()([x2,x3]))\n",
    "xout=Flatten()(xout)\n",
    "xout=Dense(units=1,activation='sigmoid')(xout)\n",
    "\n",
    "model=Model(x,xout)\n",
    "model.compile(optimizer=Adam(),loss='binary_crossentropy',metrics=[f1])\n",
    "class_wt={0:1,1:1}"
   ]
  },
  {
   "cell_type": "code",
   "execution_count": 13,
   "metadata": {},
   "outputs": [
    {
     "name": "stdout",
     "output_type": "stream",
     "text": [
      "Epoch 1/20\n",
      "2942/2942 [==============================] - 21s 7ms/step - loss: 0.6222 - f1: 0.2981\n",
      "Epoch 2/20\n",
      "2942/2942 [==============================] - 20s 7ms/step - loss: 0.3830 - f1: 0.4232\n",
      "Epoch 3/20\n",
      "2942/2942 [==============================] - 24s 8ms/step - loss: 0.2761 - f1: 0.4524\n",
      "Epoch 4/20\n",
      "2942/2942 [==============================] - 20s 7ms/step - loss: 0.2249 - f1: 0.4623\n",
      "Epoch 5/20\n",
      "2942/2942 [==============================] - 22s 8ms/step - loss: 0.1987 - f1: 0.4711\n",
      "Epoch 6/20\n",
      "2942/2942 [==============================] - 23s 8ms/step - loss: 0.1668 - f1: 0.4728\n",
      "Epoch 7/20\n",
      "2942/2942 [==============================] - 24s 8ms/step - loss: 0.1319 - f1: 0.4796\n",
      "Epoch 8/20\n",
      "2942/2942 [==============================] - 22s 8ms/step - loss: 0.1076 - f1: 0.4847\n",
      "Epoch 9/20\n",
      "2942/2942 [==============================] - 21s 7ms/step - loss: 0.0896 - f1: 0.4854\n",
      "Epoch 10/20\n",
      "2942/2942 [==============================] - 20s 7ms/step - loss: 0.0664 - f1: 0.4881\n",
      "Epoch 11/20\n",
      "2942/2942 [==============================] - 20s 7ms/step - loss: 0.0431 - f1: 0.4952\n",
      "Epoch 12/20\n",
      "2942/2942 [==============================] - 20s 7ms/step - loss: 0.0241 - f1: 0.4983\n",
      "Epoch 13/20\n",
      "2942/2942 [==============================] - 19s 7ms/step - loss: 0.0189 - f1: 0.4983\n",
      "Epoch 14/20\n",
      "2942/2942 [==============================] - 20s 7ms/step - loss: 0.0108 - f1: 0.4997\n",
      "Epoch 15/20\n",
      "2942/2942 [==============================] - 21s 7ms/step - loss: 0.0042 - f1: 0.5000\n",
      "Epoch 16/20\n",
      "2942/2942 [==============================] - 21s 7ms/step - loss: 0.0021 - f1: 0.5000\n",
      "Epoch 17/20\n",
      "2942/2942 [==============================] - 20s 7ms/step - loss: 0.0013 - f1: 0.5000\n",
      "Epoch 18/20\n",
      "2942/2942 [==============================] - 20s 7ms/step - loss: 9.8103e-04 - f1: 0.5000\n",
      "Epoch 19/20\n",
      "2942/2942 [==============================] - 19s 6ms/step - loss: 7.8740e-04 - f1: 0.5000\n",
      "Epoch 20/20\n",
      "2942/2942 [==============================] - 18s 6ms/step - loss: 6.6436e-04 - f1: 0.5000\n"
     ]
    },
    {
     "data": {
      "text/plain": [
       "<tensorflow.python.keras.callbacks.History at 0xa1631fa90>"
      ]
     },
     "execution_count": 13,
     "metadata": {},
     "output_type": "execute_result"
    }
   ],
   "source": [
    "train_data = np.vstack(df_train['sequences'].values)[:,:,None]\n",
    "test_data  = np.vstack(df_test['sequences'].values)[:,:,None]\n",
    "\n",
    "train_val=df_train['labels'].values\n",
    "train_val[train_val==-1]=0\n",
    "model.fit(x=train_data,y=train_val,batch_size=64,epochs=20,class_weight=class_wt)"
   ]
  },
  {
   "cell_type": "code",
   "execution_count": null,
   "metadata": {},
   "outputs": [
    {
     "name": "stdout",
     "output_type": "stream",
     "text": [
      "(0.8361572201760743, 0.42637055366557663)\n",
      "0.030807365439093484\n"
     ]
    }
   ],
   "source": [
    "pred_val=(model.predict(test_data)>0.5).astype(np.int)\n",
    "true_val=df_test['labels']\n",
    "true_val[true_val==-1]=0\n",
    "\n",
    "dl_mtr=utility.get_scores(true_val,pred_val)\n",
    "print(dl_mtr)\n",
    "dl_f1=utility.f1_score(true_val,pred_val)\n",
    "print(dl_f1)\n",
    "eval_df=eval_df.append({'Name':'DL_model','AUROC':dl_mtr[0],'AUPRC':dl_mtr[1],'f1_score':dl_f1},ignore_index=True)"
   ]
  },
  {
   "cell_type": "code",
   "execution_count": 33,
   "metadata": {},
   "outputs": [
    {
     "data": {
      "text/plain": [
       "0.5"
      ]
     },
     "execution_count": 33,
     "metadata": {},
     "output_type": "execute_result"
    }
   ],
   "source": [
    "(train_val==1).mean()"
   ]
  },
  {
   "cell_type": "code",
   "execution_count": 38,
   "metadata": {},
   "outputs": [
    {
     "data": {
      "text/plain": [
       "(2942, 1592, 1)"
      ]
     },
     "execution_count": 38,
     "metadata": {},
     "output_type": "execute_result"
    }
   ],
   "source": [
    "train_data.shape"
   ]
  },
  {
   "cell_type": "code",
   "execution_count": null,
   "metadata": {},
   "outputs": [],
   "source": []
  },
  {
   "cell_type": "markdown",
   "metadata": {},
   "source": [
    "## Evaluation"
   ]
  },
  {
   "cell_type": "code",
   "execution_count": 29,
   "metadata": {},
   "outputs": [
    {
     "data": {
      "text/html": [
       "<div>\n",
       "<style scoped>\n",
       "    .dataframe tbody tr th:only-of-type {\n",
       "        vertical-align: middle;\n",
       "    }\n",
       "\n",
       "    .dataframe tbody tr th {\n",
       "        vertical-align: top;\n",
       "    }\n",
       "\n",
       "    .dataframe thead th {\n",
       "        text-align: right;\n",
       "    }\n",
       "</style>\n",
       "<table border=\"1\" class=\"dataframe\">\n",
       "  <thead>\n",
       "    <tr style=\"text-align: right;\">\n",
       "      <th></th>\n",
       "      <th>Name</th>\n",
       "      <th>AUROC</th>\n",
       "      <th>AUPRC</th>\n",
       "      <th>f1_score</th>\n",
       "      <th>F1</th>\n",
       "    </tr>\n",
       "  </thead>\n",
       "  <tbody>\n",
       "    <tr>\n",
       "      <th>0</th>\n",
       "      <td>DL_model</td>\n",
       "      <td>0.829898</td>\n",
       "      <td>0.425823</td>\n",
       "      <td>NaN</td>\n",
       "      <td>0.028694</td>\n",
       "    </tr>\n",
       "    <tr>\n",
       "      <th>1</th>\n",
       "      <td>DL_model</td>\n",
       "      <td>0.829898</td>\n",
       "      <td>0.425823</td>\n",
       "      <td>0.028694</td>\n",
       "      <td>NaN</td>\n",
       "    </tr>\n",
       "  </tbody>\n",
       "</table>\n",
       "</div>"
      ],
      "text/plain": [
       "       Name     AUROC     AUPRC  f1_score        F1\n",
       "0  DL_model  0.829898  0.425823       NaN  0.028694\n",
       "1  DL_model  0.829898  0.425823  0.028694       NaN"
      ]
     },
     "execution_count": 29,
     "metadata": {},
     "output_type": "execute_result"
    }
   ],
   "source": [
    "eval_df"
   ]
  },
  {
   "cell_type": "code",
   "execution_count": null,
   "metadata": {},
   "outputs": [],
   "source": []
  }
 ],
 "metadata": {
  "kernelspec": {
   "display_name": "Python 3",
   "language": "python",
   "name": "python3"
  },
  "language_info": {
   "codemirror_mode": {
    "name": "ipython",
    "version": 3
   },
   "file_extension": ".py",
   "mimetype": "text/x-python",
   "name": "python",
   "nbconvert_exporter": "python",
   "pygments_lexer": "ipython3",
   "version": "3.6.4"
  }
 },
 "nbformat": 4,
 "nbformat_minor": 2
}
