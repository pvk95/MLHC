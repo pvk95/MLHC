{
 "cells": [
  {
   "cell_type": "code",
   "execution_count": null,
   "metadata": {},
   "outputs": [],
   "source": [
    "from sklearn.utils import shuffle\n",
    "from sklearn.model_selection import train_test_split\n",
    "import matplotlib.pyplot as plt\n",
    "import numpy as np\n",
    "import models\n",
    "import os\n",
    "import data\n",
    "import pandas as pd\n",
    "import csv"
   ]
  },
  {
   "cell_type": "code",
   "execution_count": null,
   "metadata": {},
   "outputs": [],
   "source": [
    "np.random.seed(0)\n",
    "\n",
    "os.environ['CUDA_VISIBLE_DEVICES'] = str(0)\n",
    "#os.environ['TF_CPP_MIN_LOG_LEVEL'] = '3'\n",
    "\n",
    "train_images, train_labels, test_images, test_images_rot, test_labels, test_labels_rot = data.get_data()\n",
    "\n",
    "train_images = np.concatenate(train_images)\n",
    "train_labels = np.concatenate(train_labels)\n",
    "\n",
    "train_X, test_X, train_Y, test_Y = train_test_split(\n",
    "    train_images, train_labels, test_size=0.1, random_state=42)\n",
    "\n",
    "#train_X, train_Y = data.augment_data(train_X, train_Y)\n",
    "sub_train_X = data.sub_images(train_X)\n",
    "sub_train_Y = data.sub_images(train_Y)\n",
    "sub_test_X = data.sub_images(test_X)\n",
    "sub_test_Y = data.sub_images(test_Y)\n",
    "\n",
    "\n",
    "sub_train_Y = data.disc_labels(sub_train_Y)\n",
    "sub_test_Y = data.disc_labels(sub_test_Y)\n",
    "\n",
    "sub_train_X = sub_train_X[..., np.newaxis]\n",
    "sub_test_X = sub_test_X[..., np.newaxis]\n",
    "\n",
    "sub_train_X, sub_train_Y = shuffle(sub_train_X, sub_train_Y)"
   ]
  },
  {
   "cell_type": "code",
   "execution_count": null,
   "metadata": {},
   "outputs": [],
   "source": [
    "unet = models.UNet('./', input_shape=(128, 128, 1),\n",
    "                   epochs=100, deepness=3, verbose=1, batch_size=32)\n",
    "#unet.fit(sub_train_X, sub_train_Y, (sub_test_X, sub_test_Y))\n",
    "sub_pred_Y = unet.predict(sub_test_X)\n",
    "pred_Y = data.reconstruct_array(sub_pred_Y)\n",
    "pred_Y = np.array(pred_Y)\n",
    "pred_Y = np.argmax(pred_Y, axis=-1).astype(int)\n",
    "\n",
    "print(pred_Y.shape)\n",
    "#test_Y = np.argmax(test_Y,axis=-1)\n",
    "\n",
    "op, pc, iou = data.getMetrics(test_Y, pred_Y)\n",
    "curr_metrics = {'OP': op, 'PC': pc, 'IoU': iou}\n",
    "\n",
    "metrics = pd.DataFrame({}, columns=['OP', 'PC', 'IoU'])\n",
    "metrics = metrics.append(curr_metrics, ignore_index=True)\n",
    "print(metrics)"
   ]
  },
  {
   "cell_type": "code",
   "execution_count": null,
   "metadata": {},
   "outputs": [],
   "source": [
    "#######################\n",
    "###      TEST       ###\n",
    "#######################\n",
    "\n",
    "images_name = np.arange(50,60)\n",
    "for i,test_im in enumerate(test_images):\n",
    "    sub_test_im = data.sub_images(test_im)\n",
    "    sub_test_im = sub_test_im[..., np.newaxis]\n",
    "    sub_pred_im = unet.predict(sub_test_im)\n",
    "    pred_im = data.reconstruct_array(sub_pred_im)\n",
    "    pred_im = np.argmax(pred_im, axis=-1).astype(int)\n",
    "\n",
    "    op, pc, iou = data.getMetrics(test_labels[i], pred_im)\n",
    "\n",
    "    with open('test_images.csv', 'a') as csvfile:\n",
    "        filewriter = csv.writer(csvfile, delimiter=',',\n",
    "                                quotechar='|', quoting=csv.QUOTE_MINIMAL)\n",
    "        filewriter.writerow(['sample-{}'.format(images_name[i]), op,pc,iou])\n",
    "\n",
    "    curr_metrics = {'OP': op, 'PC': pc, 'IoU': iou}\n",
    "    metrics = metrics.append(curr_metrics, ignore_index=True)\n"
   ]
  },
  {
   "cell_type": "code",
   "execution_count": null,
   "metadata": {},
   "outputs": [],
   "source": [
    "#######################\n",
    "###      Rotate     ###\n",
    "#######################\n",
    "\n",
    "images_name = np.arange(50,60)\n",
    "for i,rot_im in enumerate(test_images_rot):\n",
    "    sub_test_rot = data.sub_images(rot_im)\n",
    "    sub_test_rot = sub_test_rot[..., np.newaxis]\n",
    "    sub_pred_rot = unet.predict(sub_test_rot)\n",
    "    pred_rot = data.reconstruct_array(sub_pred_rot)\n",
    "    pred_rot = np.argmax(pred_rot, axis=-1).astype(int)\n",
    "\n",
    "    op, pc, iou = data.getMetrics(test_labels_rot[i], pred_rot)\n",
    "    with open('test_images_randomly_rotated.csv', 'a') as csvfile:\n",
    "        filewriter = csv.writer(csvfile, delimiter=',',\n",
    "                                quotechar='|', quoting=csv.QUOTE_MINIMAL)\n",
    "        filewriter.writerow(['sample-{}'.format(images_name[i]), op,pc,iou])\n",
    "\n",
    "    curr_metrics = {'OP': op, 'PC': pc, 'IoU': iou}\n",
    "    metrics = metrics.append(curr_metrics, ignore_index=True)\n"
   ]
  }
 ],
 "metadata": {
  "kernelspec": {
   "display_name": "Python 3",
   "language": "python",
   "name": "python3"
  },
  "language_info": {
   "codemirror_mode": {
    "name": "ipython",
    "version": 3
   },
   "file_extension": ".py",
   "mimetype": "text/x-python",
   "name": "python",
   "nbconvert_exporter": "python",
   "pygments_lexer": "ipython3",
   "version": "3.6.8"
  }
 },
 "nbformat": 4,
 "nbformat_minor": 2
}
