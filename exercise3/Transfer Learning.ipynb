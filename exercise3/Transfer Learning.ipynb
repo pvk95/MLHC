{
 "cells": [
  {
   "cell_type": "code",
   "execution_count": null,
   "metadata": {},
   "outputs": [],
   "source": [
    "import pandas as pd\n",
    "import numpy as np\n",
    "import models\n",
    "from tensorflow.keras.utils import to_categorical\n",
    "from tensorflow.keras.models import load_model, Model\n",
    "from tensorflow.keras.layers import Dense\n",
    "from tensorflow.keras.optimizers import Adam\n",
    "from tensorflow.keras.callbacks import EarlyStopping, ReduceLROnPlateau\n",
    "from sklearn.utils import shuffle\n",
    "from sklearn.model_selection import train_test_split"
   ]
  },
  {
   "cell_type": "markdown",
   "metadata": {},
   "source": [
    "# Load MITBIH DATA\n",
    "\n",
    "We took the first 186 values as input (instead of the first 187) because the PTBDB uses only 186 values as input"
   ]
  },
  {
   "cell_type": "code",
   "execution_count": null,
   "metadata": {},
   "outputs": [],
   "source": [
    "mitbih_train = pd.read_csv('exercise_data/heartbeat/mitbih_train.csv', header=None)\n",
    "\n",
    "X = mitbih_train[list(range(186))].values[..., np.newaxis]\n",
    "Y = mitbih_train[187]\n",
    "X, Y = shuffle(X, Y, random_state=42)\n",
    "Y_binary = to_categorical(Y)"
   ]
  },
  {
   "cell_type": "markdown",
   "metadata": {},
   "source": [
    "# Train Model on MITBIH"
   ]
  },
  {
   "cell_type": "code",
   "execution_count": null,
   "metadata": {},
   "outputs": [],
   "source": [
    "rnn_model = models.LSTM_Model(outputs=5)\n",
    "rnn_model.fit(X, Y_binary)\n",
    "rnn_model.model.save('transfer_learning.h5')"
   ]
  },
  {
   "cell_type": "markdown",
   "metadata": {},
   "source": [
    "# LOAD PTBDB DATA\n"
   ]
  },
  {
   "cell_type": "code",
   "execution_count": null,
   "metadata": {},
   "outputs": [],
   "source": [
    "ptbdb_1 = pd.read_csv(\"exercise_data/heartbeat/ptbdb_normal.csv\", header=None)\n",
    "ptbdb_2 = pd.read_csv(\"exercise_data/heartbeat/ptbdb_abnormal.csv\", header=None)\n",
    "ptbdb = pd.concat([ptbdb_1, ptbdb_2])\n",
    "X = ptbdb[list(range(186))].values[..., np.newaxis]\n",
    "Y = ptbdb[187]\n",
    "X, Y = shuffle(X, Y, random_state=42)"
   ]
  },
  {
   "cell_type": "markdown",
   "metadata": {},
   "source": [
    " train method for later use "
   ]
  },
  {
   "cell_type": "code",
   "execution_count": null,
   "metadata": {},
   "outputs": [],
   "source": [
    "# train method for later use\n",
    "def train(model, X, Y):\n",
    "    early = EarlyStopping(monitor=\"val_acc\", mode=\"max\", patience=5, verbose=1)\n",
    "    redonplat = ReduceLROnPlateau(monitor=\"val_acc\", mode=\"max\", patience=3, verbose=1)\n",
    "    callbacks_list = [early, redonplat]  # early\n",
    "\n",
    "    model.fit(X, Y, epochs=1000, verbose=1, callbacks=callbacks_list, validation_split=0.1)\n"
   ]
  },
  {
   "cell_type": "markdown",
   "metadata": {},
   "source": [
    "# Freeze Everything expect the last layer"
   ]
  },
  {
   "cell_type": "code",
   "execution_count": null,
   "metadata": {},
   "outputs": [],
   "source": [
    "# Freeze everything except the last layer and train\n",
    "model = load_model('transfer_learning.h5')\n",
    "out = Dense(1, name='ouput')(model.layers[-2].output)\n",
    "model2 = Model(model.input, out)\n",
    "\n",
    "for x in range(4):\n",
    "    model2.layers[x].trainable = False\n",
    "\n",
    "model2.compile(optimizer=Adam(0.001), loss='binary_crossentropy', metrics=['acc'])\n",
    "model2.summary()\n",
    "train(model2, X, Y)"
   ]
  },
  {
   "cell_type": "markdown",
   "metadata": {},
   "source": [
    "# Don't freeze any layers"
   ]
  },
  {
   "cell_type": "code",
   "execution_count": null,
   "metadata": {},
   "outputs": [],
   "source": [
    "model = load_model('transfer_learning.h5')\n",
    "out = Dense(1, name='ouput')(model.layers[-2].output)\n",
    "model2 = Model(model.input, out)\n",
    "model2.compile(optimizer=Adam(0.001), loss='binary_crossentropy', metrics=['acc'])\n",
    "model2.summary()\n",
    "train(model2, X, Y)"
   ]
  },
  {
   "cell_type": "markdown",
   "metadata": {},
   "source": [
    "# First Freeze - then unfreeze"
   ]
  },
  {
   "cell_type": "markdown",
   "metadata": {},
   "source": [
    "## Freeze"
   ]
  },
  {
   "cell_type": "code",
   "execution_count": null,
   "metadata": {},
   "outputs": [],
   "source": [
    "X_train, X_test, Y_train, Y_test = train_test_split(X, Y, random_state=42, test_size=0.1)\n",
    "\n",
    "model = load_model('transfer_learning.h5')\n",
    "out = Dense(1, name='ouput')(model.layers[-2].output)\n",
    "model2 = Model(model.input, out)\n",
    "\n",
    "for x in range(4):\n",
    "    model2.layers[x].trainable = False\n",
    "\n",
    "model2.compile(optimizer=Adam(0.001), loss='binary_crossentropy', metrics=['acc'])\n",
    "\n",
    "early = EarlyStopping(monitor=\"val_acc\", mode=\"max\", patience=5, verbose=1)\n",
    "redonplat = ReduceLROnPlateau(monitor=\"val_acc\", mode=\"max\", patience=3, verbose=1)\n",
    "callbacks_list = [early, redonplat]  # early\n",
    "\n",
    "model2.summary()\n",
    "model2.fit(X_train, Y_train, epochs=1000, verbose=1, callbacks=callbacks_list, validation_data=(X_test, Y_test))"
   ]
  },
  {
   "cell_type": "markdown",
   "metadata": {},
   "source": [
    "## Unfreeze"
   ]
  },
  {
   "cell_type": "code",
   "execution_count": null,
   "metadata": {},
   "outputs": [],
   "source": [
    "for x in range(4):\n",
    "    model2.layers[x].trainable = True\n",
    "    \n",
    "model2.compile(optimizer=Adam(0.001), loss='binary_crossentropy', metrics=['acc'])\n",
    "model2.summary()\n",
    "model2.fit(X_train, Y_train, epochs=1000, verbose=1, callbacks=callbacks_list, validation_data=(X_test, Y_test))"
   ]
  },
  {
   "cell_type": "code",
   "execution_count": null,
   "metadata": {},
   "outputs": [],
   "source": []
  }
 ],
 "metadata": {
  "kernelspec": {
   "display_name": "Python 3",
   "language": "python",
   "name": "python3"
  },
  "language_info": {
   "codemirror_mode": {
    "name": "ipython",
    "version": 3
   },
   "file_extension": ".py",
   "mimetype": "text/x-python",
   "name": "python",
   "nbconvert_exporter": "python",
   "pygments_lexer": "ipython3",
   "version": "3.6.7"
  }
 },
 "nbformat": 4,
 "nbformat_minor": 2
}
