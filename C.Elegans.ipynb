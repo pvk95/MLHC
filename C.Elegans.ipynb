{
 "cells": [
  {
   "cell_type": "markdown",
   "metadata": {},
   "source": [
    "# C. Elegans DNA"
   ]
  },
  {
   "cell_type": "markdown",
   "metadata": {},
   "source": [
    "Import librarires for later use"
   ]
  },
  {
   "cell_type": "code",
   "execution_count": 1,
   "metadata": {},
   "outputs": [],
   "source": [
    "import numpy as np\n",
    "import sklearn\n",
    "import pandas as pd\n",
    "%load_ext autoreload\n",
    "%autoreload 2"
   ]
  },
  {
   "cell_type": "markdown",
   "metadata": {},
   "source": [
    "Read the C.Elegens .csv file. We add our own headers - labels stands for whether there is a splice site or not and the DNA is a string repressinting the DNA"
   ]
  },
  {
   "cell_type": "code",
   "execution_count": 2,
   "metadata": {},
   "outputs": [],
   "source": [
    "df = pd.read_csv('exercise_data/C_elegans_acc_seq.csv', header=None, names=['labels', 'DNA'])"
   ]
  },
  {
   "cell_type": "markdown",
   "metadata": {},
   "source": [
    "### Mapping DNA to a vector\n",
    "\n",
    "We will map the DNA into a vector, by mapping each Character (A,T,C,G) into a one-hot vector and then concatonating all these vectors together. As we have a string of 82 Characters this gives us a final vector of length 248"
   ]
  },
  {
   "cell_type": "code",
   "execution_count": 3,
   "metadata": {},
   "outputs": [],
   "source": [
    "import utility\n",
    "df['DNA'] = df['DNA'].map(utility.map_dna_into_vector)"
   ]
  },
  {
   "cell_type": "markdown",
   "metadata": {},
   "source": [
    "### Doing the Test-Train-Split"
   ]
  },
  {
   "cell_type": "code",
   "execution_count": 4,
   "metadata": {},
   "outputs": [],
   "source": [
    "from sklearn.model_selection import train_test_split\n",
    "train, test = train_test_split(df, test_size=0.2)\n",
    "train_data = np.vstack(train['DNA'].values)\n",
    "test_data  = np.vstack(test['DNA'].values)"
   ]
  },
  {
   "cell_type": "markdown",
   "metadata": {},
   "source": [
    "### Creating DataFrame for later Evaluation"
   ]
  },
  {
   "cell_type": "code",
   "execution_count": 5,
   "metadata": {},
   "outputs": [],
   "source": [
    "eval_df = pd.DataFrame(data=[], columns=['Name', 'AUROC', 'AUPRC', 'f1_cv'])"
   ]
  },
  {
   "cell_type": "markdown",
   "metadata": {},
   "source": [
    "## Models"
   ]
  },
  {
   "cell_type": "code",
   "execution_count": 6,
   "metadata": {},
   "outputs": [],
   "source": [
    "from sklearn.model_selection import GridSearchCV"
   ]
  },
  {
   "cell_type": "code",
   "execution_count": 7,
   "metadata": {},
   "outputs": [],
   "source": [
    "def evaluate_model(model, params, df, train, test):\n",
    "    # Put Data into a readable Matrix format\n",
    "    train_data = np.vstack(train['DNA'].values)\n",
    "    test_data  = np.vstack(test['DNA'].values)\n",
    "    \n",
    "    # Create Instance of our Model\n",
    "    m = model()\n",
    "    \n",
    "    # Search for the best params in our model and print the best score\n",
    "    clf = GridSearchCV(m, params, scoring='f1', cv=5, n_jobs=-1)\n",
    "    clf.fit(train_data, train['labels'].values)\n",
    "    print(f\"The best score was: {clf.best_score_}\")\n",
    "    \n",
    "    # Train our best model on the whole train-dataset\n",
    "    best_estimator = model(**clf.best_params_)\n",
    "    best_estimotor = best_estimator.fit(train_data, train['labels'].values)\n",
    "    \n",
    "    # Evaluate on the Test set\n",
    "    pred_val = best_estimator.predict(test_data)\n",
    "    true_val = test['labels'].values\n",
    "    auroc, auprc = utility.get_scores(true_val, pred_val)\n",
    "    \n",
    "    # Append to our Dataframe\n",
    "    df = df.append({'Name': model.__name__, 'AUROC':auroc , 'AUPRC': auprc, 'f1_cv':clf.best_score_}, ignore_index=True)\n",
    "    return (best_estimator, df)"
   ]
  },
  {
   "cell_type": "code",
   "execution_count": null,
   "metadata": {},
   "outputs": [],
   "source": []
  },
  {
   "cell_type": "markdown",
   "metadata": {},
   "source": [
    "### Logistic Regression"
   ]
  },
  {
   "cell_type": "code",
   "execution_count": 8,
   "metadata": {},
   "outputs": [],
   "source": [
    "from sklearn.linear_model import LogisticRegression"
   ]
  },
  {
   "cell_type": "code",
   "execution_count": 9,
   "metadata": {},
   "outputs": [],
   "source": [
    "params = {\n",
    "    'penalty': ['l1', 'l2'],\n",
    "    'C': [1, 10, 100],\n",
    "    'class_weight': ['balanced']\n",
    "}"
   ]
  },
  {
   "cell_type": "code",
   "execution_count": 10,
   "metadata": {},
   "outputs": [
    {
     "name": "stdout",
     "output_type": "stream",
     "text": [
      "The best score was: 0.7714376328291473\n"
     ]
    },
    {
     "name": "stderr",
     "output_type": "stream",
     "text": [
      "/Users/karthik/anaconda3/envs/tf/lib/python3.6/site-packages/sklearn/linear_model/logistic.py:432: FutureWarning: Default solver will be changed to 'lbfgs' in 0.22. Specify a solver to silence this warning.\n",
      "  FutureWarning)\n",
      "/Users/karthik/anaconda3/envs/tf/lib/python3.6/site-packages/sklearn/linear_model/logistic.py:432: FutureWarning: Default solver will be changed to 'lbfgs' in 0.22. Specify a solver to silence this warning.\n",
      "  FutureWarning)\n"
     ]
    }
   ],
   "source": [
    "lg_best_estimator, eval_df = evaluate_model(LogisticRegression, params, eval_df, train, test)"
   ]
  },
  {
   "cell_type": "markdown",
   "metadata": {},
   "source": [
    "### SVC"
   ]
  },
  {
   "cell_type": "code",
   "execution_count": 11,
   "metadata": {},
   "outputs": [],
   "source": [
    "from sklearn.svm import SVC"
   ]
  },
  {
   "cell_type": "code",
   "execution_count": 12,
   "metadata": {},
   "outputs": [],
   "source": [
    "params = {'kernel': ['linear', 'rbf', 'poly'],\n",
    "          'C': [1, 10, 100],\n",
    "          'class_weight': ['balanced'],\n",
    "          'gamma': ['auto', 'scale']\n",
    "         }"
   ]
  },
  {
   "cell_type": "code",
   "execution_count": 13,
   "metadata": {},
   "outputs": [
    {
     "name": "stdout",
     "output_type": "stream",
     "text": [
      "The best score was: 0.837142344660541\n"
     ]
    }
   ],
   "source": [
    "svc_best_estimator, eval_df = evaluate_model(SVC, params, eval_df, train, test)"
   ]
  },
  {
   "cell_type": "markdown",
   "metadata": {},
   "source": [
    "### Random Forest"
   ]
  },
  {
   "cell_type": "code",
   "execution_count": 14,
   "metadata": {},
   "outputs": [],
   "source": [
    "from sklearn.ensemble import RandomForestClassifier"
   ]
  },
  {
   "cell_type": "code",
   "execution_count": 15,
   "metadata": {},
   "outputs": [],
   "source": [
    "params = {\n",
    "    'n_estimators':[10, 100, 300],    \n",
    "    'class_weight': ['balanced', 'balanced_subsample']\n",
    "}"
   ]
  },
  {
   "cell_type": "code",
   "execution_count": 16,
   "metadata": {},
   "outputs": [
    {
     "name": "stdout",
     "output_type": "stream",
     "text": [
      "The best score was: 0.3918118466898955\n"
     ]
    }
   ],
   "source": [
    "rfc_best_estimator, eval_df = evaluate_model(RandomForestClassifier, params, eval_df, train, test)"
   ]
  },
  {
   "cell_type": "markdown",
   "metadata": {},
   "source": [
    "###  Gaussian Process Classifer"
   ]
  },
  {
   "cell_type": "code",
   "execution_count": 17,
   "metadata": {},
   "outputs": [],
   "source": [
    "from sklearn.gaussian_process import GaussianProcessClassifier\n",
    "from sklearn.gaussian_process.kernels import RBF, PairwiseKernel"
   ]
  },
  {
   "cell_type": "code",
   "execution_count": 18,
   "metadata": {},
   "outputs": [],
   "source": [
    "params = {\n",
    "    'kernel' : [RBF(), PairwiseKernel()]\n",
    "}"
   ]
  },
  {
   "cell_type": "code",
   "execution_count": 20,
   "metadata": {},
   "outputs": [
    {
     "name": "stdout",
     "output_type": "stream",
     "text": [
      "The best score was: 0.7305223215790513\n"
     ]
    }
   ],
   "source": [
    "gpc_best_estimator, eval_df = evaluate_model(GaussianProcessClassifier, params, eval_df, train, test)"
   ]
  },
  {
   "cell_type": "markdown",
   "metadata": {},
   "source": [
    "### DL Model"
   ]
  },
  {
   "cell_type": "code",
   "execution_count": 21,
   "metadata": {},
   "outputs": [],
   "source": [
    "import tensorflow as tf\n",
    "from tensorflow.python.keras.layers import BatchNormalization,Conv1D,Input,Add,Dense,Flatten\n",
    "from tensorflow.python.keras.models import Model\n",
    "from tensorflow.python.keras.optimizers import Adam"
   ]
  },
  {
   "cell_type": "code",
   "execution_count": 22,
   "metadata": {},
   "outputs": [],
   "source": [
    "def f1(y_true, y_pred):\n",
    "    y_true = tf.cast(y_true, \"int32\")\n",
    "    print(y_true)\n",
    "    y_pred = tf.cast(tf.round(y_pred), \"int32\") # implicit 0.5 threshold via tf.round\n",
    "    y_correct = tf.cast(tf.equal(y_true,y_pred),\"int32\")\n",
    "    print(y_correct)\n",
    "    sum_true = tf.reduce_sum(y_true, axis=1)\n",
    "    sum_pred = tf.reduce_sum(y_pred, axis=1)\n",
    "    sum_correct = tf.reduce_sum(y_correct, axis=1)\n",
    "    precision = sum_correct / sum_pred\n",
    "    recall = sum_correct / sum_true\n",
    "    f_score = 2 * precision * recall / (1 * precision + recall)\n",
    "    f_score = tf.where(tf.is_nan(f_score), tf.zeros_like(f_score), f_score)\n",
    "    return tf.reduce_mean(f_score)\n",
    "\n",
    "def add_RB(x):\n",
    "    xout=BatchNormalization()(x)\n",
    "    xout=Conv1D(filters=32,kernel_size=11,dilation_rate=1,padding='same',activation='relu')(x)\n",
    "    xout=BatchNormalization()(xout)\n",
    "    xout=Conv1D(filters=32,kernel_size=11,dilation_rate=1,padding='same',activation='relu')(xout)\n",
    "    return xout\n",
    "\n"
   ]
  },
  {
   "cell_type": "code",
   "execution_count": 23,
   "metadata": {},
   "outputs": [
    {
     "name": "stdout",
     "output_type": "stream",
     "text": [
      "Tensor(\"metrics/f1/Cast:0\", shape=(?, ?), dtype=int32)\n",
      "Tensor(\"metrics/f1/Cast_2:0\", shape=(?, ?), dtype=int32)\n"
     ]
    }
   ],
   "source": [
    "tf.reset_default_graph()\n",
    "x=Input(shape=[328,1])\n",
    "\n",
    "x1=Conv1D(filters=32,kernel_size=1,dilation_rate=1,padding='same',activation='relu')(x)\n",
    "xrb=add_RB(x1)\n",
    "xrb=add_RB(xrb)\n",
    "xrb=add_RB(xrb)\n",
    "xrb=add_RB(xrb)\n",
    "\n",
    "x2=Conv1D(filters=32,kernel_size=1,dilation_rate=1,padding='same',activation='relu')(xrb)\n",
    "x3=Conv1D(filters=32,kernel_size=1,dilation_rate=1,padding='same',activation='relu')(x1)\n",
    "\n",
    "xout=Conv1D(filters=1,kernel_size=1,dilation_rate=1,padding='same',activation='relu')(Add()([x2,x3]))\n",
    "xout=Flatten()(xout)\n",
    "xout=Dense(units=1,activation='sigmoid')(xout)\n",
    "\n",
    "model=Model(x,xout)\n",
    "model.compile(optimizer=Adam(),loss='binary_crossentropy',metrics=[f1])\n",
    "class_wt={0:1,1:15}"
   ]
  },
  {
   "cell_type": "code",
   "execution_count": 24,
   "metadata": {},
   "outputs": [
    {
     "name": "stdout",
     "output_type": "stream",
     "text": [
      "Epoch 1/20\n",
      "1760/1760 [==============================] - 8s 5ms/step - loss: 0.5464 - f1: 0.0727\n",
      "Epoch 2/20\n",
      "1760/1760 [==============================] - 7s 4ms/step - loss: 0.3083 - f1: 0.0801\n",
      "Epoch 3/20\n",
      "1760/1760 [==============================] - 7s 4ms/step - loss: 0.1852 - f1: 0.0864\n",
      "Epoch 4/20\n",
      "1760/1760 [==============================] - 7s 4ms/step - loss: 0.1473 - f1: 0.0858\n",
      "Epoch 5/20\n",
      "1760/1760 [==============================] - 7s 4ms/step - loss: 0.0718 - f1: 0.0903\n",
      "Epoch 6/20\n",
      "1760/1760 [==============================] - 7s 4ms/step - loss: 0.0209 - f1: 0.0909\n",
      "Epoch 7/20\n",
      "1760/1760 [==============================] - 7s 4ms/step - loss: 0.0110 - f1: 0.0909\n",
      "Epoch 8/20\n",
      "1760/1760 [==============================] - 7s 4ms/step - loss: 0.0041 - f1: 0.0909\n",
      "Epoch 9/20\n",
      "1760/1760 [==============================] - 7s 4ms/step - loss: 0.0016 - f1: 0.0909\n",
      "Epoch 10/20\n",
      "1760/1760 [==============================] - 7s 4ms/step - loss: 9.6482e-04 - f1: 0.0909\n",
      "Epoch 11/20\n",
      "1760/1760 [==============================] - 7s 4ms/step - loss: 6.5834e-04 - f1: 0.0909\n",
      "Epoch 12/20\n",
      "1760/1760 [==============================] - 7s 4ms/step - loss: 5.1383e-04 - f1: 0.0909\n",
      "Epoch 13/20\n",
      "1760/1760 [==============================] - 7s 4ms/step - loss: 4.2120e-04 - f1: 0.0909\n",
      "Epoch 14/20\n",
      "1760/1760 [==============================] - 7s 4ms/step - loss: 3.6306e-04 - f1: 0.0909\n",
      "Epoch 15/20\n",
      "1760/1760 [==============================] - 7s 4ms/step - loss: 3.1391e-04 - f1: 0.0909\n",
      "Epoch 16/20\n",
      "1760/1760 [==============================] - 7s 4ms/step - loss: 2.6700e-04 - f1: 0.0909\n",
      "Epoch 17/20\n",
      "1760/1760 [==============================] - 7s 4ms/step - loss: 2.2708e-04 - f1: 0.0909\n",
      "Epoch 18/20\n",
      "1760/1760 [==============================] - 7s 4ms/step - loss: 2.0425e-04 - f1: 0.0909\n",
      "Epoch 19/20\n",
      "1760/1760 [==============================] - 7s 4ms/step - loss: 1.8090e-04 - f1: 0.0909\n",
      "Epoch 20/20\n",
      "1760/1760 [==============================] - 7s 4ms/step - loss: 1.6881e-04 - f1: 0.0909\n"
     ]
    },
    {
     "data": {
      "text/plain": [
       "<tensorflow.python.keras.callbacks.History at 0x1a28f6c978>"
      ]
     },
     "execution_count": 24,
     "metadata": {},
     "output_type": "execute_result"
    }
   ],
   "source": [
    "train_data = np.vstack(train['DNA'].values)[:,:,None]\n",
    "test_data  = np.vstack(test['DNA'].values)[:,:,None]\n",
    "\n",
    "train_val=train['labels'].values\n",
    "train_val[train_val==-1]=0\n",
    "model.fit(x=train_data,y=train_val,batch_size=64,epochs=20,class_weight=class_wt)"
   ]
  },
  {
   "cell_type": "code",
   "execution_count": 25,
   "metadata": {
    "scrolled": false
   },
   "outputs": [
    {
     "name": "stderr",
     "output_type": "stream",
     "text": [
      "/Users/karthik/anaconda3/envs/tf/lib/python3.6/site-packages/ipykernel_launcher.py:3: SettingWithCopyWarning: \n",
      "A value is trying to be set on a copy of a slice from a DataFrame\n",
      "\n",
      "See the caveats in the documentation: http://pandas.pydata.org/pandas-docs/stable/indexing.html#indexing-view-versus-copy\n",
      "  This is separate from the ipykernel package so we can avoid doing imports until\n",
      "/Users/karthik/anaconda3/envs/tf/lib/python3.6/site-packages/pandas/core/generic.py:5984: SettingWithCopyWarning: \n",
      "A value is trying to be set on a copy of a slice from a DataFrame\n",
      "\n",
      "See the caveats in the documentation: http://pandas.pydata.org/pandas-docs/stable/indexing.html#indexing-view-versus-copy\n",
      "  self._update_inplace(new_data)\n",
      "/Users/karthik/anaconda3/envs/tf/lib/python3.6/site-packages/IPython/core/interactiveshell.py:2910: SettingWithCopyWarning: \n",
      "A value is trying to be set on a copy of a slice from a DataFrame\n",
      "\n",
      "See the caveats in the documentation: http://pandas.pydata.org/pandas-docs/stable/indexing.html#indexing-view-versus-copy\n",
      "  exec(code_obj, self.user_global_ns, self.user_ns)\n"
     ]
    }
   ],
   "source": [
    "pred_val=(model.predict(test_data)>0.5).astype(np.int)\n",
    "true_val=test['labels']\n",
    "true_val[true_val==-1]=0\n",
    "dl_mtr=utility.get_scores(true_val,pred_val)\n",
    "dl_f1=utility.f1_score(true_val,pred_val)\n",
    "\n",
    "eval_df = eval_df.append({'Name': 'DL Model', 'AUROC':dl_mtr[0] , 'AUPRC': dl_mtr[1], 'f1_cv':dl_f1}, ignore_index=True)"
   ]
  },
  {
   "cell_type": "code",
   "execution_count": 26,
   "metadata": {},
   "outputs": [
    {
     "name": "stdout",
     "output_type": "stream",
     "text": [
      "(0.835, 0.8177899686520376)\n",
      "0.7826086956521738\n",
      "                        Name    AUROC     AUPRC     f1_cv\n",
      "0         LogisticRegression  0.95500  0.829125  0.771438\n",
      "1                        SVC  0.96000  0.940268  0.837142\n",
      "2     RandomForestClassifier  0.57375  0.542208  0.391812\n",
      "3  GaussianProcessClassifier  0.84500  0.801136  0.730522\n",
      "4  GaussianProcessClassifier  0.84500  0.801136  0.730522\n",
      "5                   DL Model  0.83500  0.817790  0.782609\n"
     ]
    }
   ],
   "source": [
    "print(dl_mtr)\n",
    "print(dl_f1)\n",
    "print(eval_df)"
   ]
  },
  {
   "cell_type": "markdown",
   "metadata": {},
   "source": [
    "## EValuation"
   ]
  },
  {
   "cell_type": "code",
   "execution_count": 27,
   "metadata": {},
   "outputs": [
    {
     "data": {
      "text/html": [
       "<div>\n",
       "<style scoped>\n",
       "    .dataframe tbody tr th:only-of-type {\n",
       "        vertical-align: middle;\n",
       "    }\n",
       "\n",
       "    .dataframe tbody tr th {\n",
       "        vertical-align: top;\n",
       "    }\n",
       "\n",
       "    .dataframe thead th {\n",
       "        text-align: right;\n",
       "    }\n",
       "</style>\n",
       "<table border=\"1\" class=\"dataframe\">\n",
       "  <thead>\n",
       "    <tr style=\"text-align: right;\">\n",
       "      <th></th>\n",
       "      <th>Name</th>\n",
       "      <th>AUROC</th>\n",
       "      <th>AUPRC</th>\n",
       "      <th>f1_cv</th>\n",
       "    </tr>\n",
       "  </thead>\n",
       "  <tbody>\n",
       "    <tr>\n",
       "      <th>0</th>\n",
       "      <td>LogisticRegression</td>\n",
       "      <td>0.95500</td>\n",
       "      <td>0.829125</td>\n",
       "      <td>0.771438</td>\n",
       "    </tr>\n",
       "    <tr>\n",
       "      <th>1</th>\n",
       "      <td>SVC</td>\n",
       "      <td>0.96000</td>\n",
       "      <td>0.940268</td>\n",
       "      <td>0.837142</td>\n",
       "    </tr>\n",
       "    <tr>\n",
       "      <th>2</th>\n",
       "      <td>RandomForestClassifier</td>\n",
       "      <td>0.57375</td>\n",
       "      <td>0.542208</td>\n",
       "      <td>0.391812</td>\n",
       "    </tr>\n",
       "    <tr>\n",
       "      <th>3</th>\n",
       "      <td>GaussianProcessClassifier</td>\n",
       "      <td>0.84500</td>\n",
       "      <td>0.801136</td>\n",
       "      <td>0.730522</td>\n",
       "    </tr>\n",
       "    <tr>\n",
       "      <th>4</th>\n",
       "      <td>GaussianProcessClassifier</td>\n",
       "      <td>0.84500</td>\n",
       "      <td>0.801136</td>\n",
       "      <td>0.730522</td>\n",
       "    </tr>\n",
       "    <tr>\n",
       "      <th>5</th>\n",
       "      <td>DL Model</td>\n",
       "      <td>0.83500</td>\n",
       "      <td>0.817790</td>\n",
       "      <td>0.782609</td>\n",
       "    </tr>\n",
       "  </tbody>\n",
       "</table>\n",
       "</div>"
      ],
      "text/plain": [
       "                        Name    AUROC     AUPRC     f1_cv\n",
       "0         LogisticRegression  0.95500  0.829125  0.771438\n",
       "1                        SVC  0.96000  0.940268  0.837142\n",
       "2     RandomForestClassifier  0.57375  0.542208  0.391812\n",
       "3  GaussianProcessClassifier  0.84500  0.801136  0.730522\n",
       "4  GaussianProcessClassifier  0.84500  0.801136  0.730522\n",
       "5                   DL Model  0.83500  0.817790  0.782609"
      ]
     },
     "execution_count": 27,
     "metadata": {},
     "output_type": "execute_result"
    }
   ],
   "source": [
    "eval_df"
   ]
  },
  {
   "cell_type": "code",
   "execution_count": null,
   "metadata": {},
   "outputs": [],
   "source": []
  }
 ],
 "metadata": {
  "kernelspec": {
   "display_name": "Python 3",
   "language": "python",
   "name": "python3"
  },
  "language_info": {
   "codemirror_mode": {
    "name": "ipython",
    "version": 3
   },
   "file_extension": ".py",
   "mimetype": "text/x-python",
   "name": "python",
   "nbconvert_exporter": "python",
   "pygments_lexer": "ipython3",
   "version": "3.6.4"
  }
 },
 "nbformat": 4,
 "nbformat_minor": 2
}
